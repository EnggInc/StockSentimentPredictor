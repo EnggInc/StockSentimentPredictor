{
 "cells": [
  {
   "cell_type": "code",
   "execution_count": 1,
   "id": "04c1b0d1",
   "metadata": {},
   "outputs": [],
   "source": [
    "import numpy as np\n",
    "from flask import Flask, request , jsonify , render_template\n",
    "import pickle"
   ]
  },
  {
   "cell_type": "code",
   "execution_count": 2,
   "id": "7c55060d",
   "metadata": {},
   "outputs": [],
   "source": [
    "import sklearn"
   ]
  },
  {
   "cell_type": "code",
   "execution_count": 1,
   "id": "977e3687",
   "metadata": {},
   "outputs": [
    {
     "name": "stdout",
     "output_type": "stream",
     "text": [
      "         subject  score   status\n",
      "0           Math     90  unknown\n",
      "1        Physics     80  unknown\n",
      "2      Chemistry     85  unknown\n",
      "3  Data Structue     40  unknown\n",
      "4        History     70  unknown\n",
      "         subject  score   status\n",
      "0           Math     90     Pass\n",
      "1        Physics     80     Pass\n",
      "2      Chemistry     85     Pass\n",
      "3  Data Structue     40  unknown\n",
      "4        History     70     Pass\n"
     ]
    }
   ],
   "source": [
    "import pandas as pd \n",
    "from tabulate import tabulate \n",
    "# create a dataframe\n",
    "df = pd.DataFrame({ 'subject': ['Math', 'Physics', 'Chemistry', 'Data Structue', 'History'], 'score': [90, 80, 85, 40, 70], 'status': ['unknown', 'unknown', 'unknown', 'unknown', 'unknown'] }) \n",
    "print(df) \n",
    "# change 'status' column value based on 'score' value\n",
    "df.loc[(df['score'] > 50), 'status'] = 'Pass' \n",
    "print(df)"
   ]
  },
  {
   "cell_type": "code",
   "execution_count": null,
   "id": "ff832f94",
   "metadata": {},
   "outputs": [],
   "source": []
  }
 ],
 "metadata": {
  "kernelspec": {
   "display_name": "Python 3 (ipykernel)",
   "language": "python",
   "name": "python3"
  },
  "language_info": {
   "codemirror_mode": {
    "name": "ipython",
    "version": 3
   },
   "file_extension": ".py",
   "mimetype": "text/x-python",
   "name": "python",
   "nbconvert_exporter": "python",
   "pygments_lexer": "ipython3",
   "version": "3.9.12"
  }
 },
 "nbformat": 4,
 "nbformat_minor": 5
}
