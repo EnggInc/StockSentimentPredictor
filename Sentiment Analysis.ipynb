{
 "cells": [
  {
   "cell_type": "code",
   "execution_count": 1,
   "id": "4d39b138",
   "metadata": {},
   "outputs": [
    {
     "name": "stderr",
     "output_type": "stream",
     "text": [
      "[nltk_data] Downloading package punkt to\n",
      "[nltk_data]     C:\\Users\\aksha\\AppData\\Roaming\\nltk_data...\n",
      "[nltk_data]   Package punkt is already up-to-date!\n"
     ]
    }
   ],
   "source": [
    "import numpy as np\n",
    "import pandas as pd\n",
    "\n",
    "import nltk\n",
    "from nltk.corpus import stopwords\n",
    "from nltk import word_tokenize\n",
    "from nltk.stem import PorterStemmer\n",
    "from nltk.stem import WordNetLemmatizer\n",
    "from nltk.corpus import wordnet\n",
    "\n",
    "import string\n",
    "import re\n",
    "\n",
    "from sklearn.feature_extraction.text import CountVectorizer\n",
    "from sklearn.feature_extraction.text import TfidfVectorizer\n",
    "\n",
    "from sklearn.naive_bayes import MultinomialNB\n",
    "from sklearn.ensemble import RandomForestClassifier\n",
    "\n",
    "from sklearn.model_selection import train_test_split\n",
    "from sklearn.metrics import plot_confusion_matrix\n",
    "from sklearn.metrics import classification_report\n",
    "\n",
    "from sklearn import metrics\n",
    "\n",
    "import matplotlib.pyplot as plt\n",
    "import seaborn as sns\n",
    "\n",
    "import nltk\n",
    "nltk.download('punkt')\n",
    "import pickle"
   ]
  },
  {
   "cell_type": "code",
   "execution_count": 2,
   "id": "6a4e06a6",
   "metadata": {},
   "outputs": [],
   "source": [
    "df = pd.read_csv(\"data/is_up.csv\")\n",
    "##df = df['stock' == ]"
   ]
  },
  {
   "cell_type": "code",
   "execution_count": 3,
   "id": "4ce77535",
   "metadata": {
    "scrolled": false
   },
   "outputs": [
    {
     "data": {
      "text/html": [
       "<div>\n",
       "<style scoped>\n",
       "    .dataframe tbody tr th:only-of-type {\n",
       "        vertical-align: middle;\n",
       "    }\n",
       "\n",
       "    .dataframe tbody tr th {\n",
       "        vertical-align: top;\n",
       "    }\n",
       "\n",
       "    .dataframe thead th {\n",
       "        text-align: right;\n",
       "    }\n",
       "</style>\n",
       "<table border=\"1\" class=\"dataframe\">\n",
       "  <thead>\n",
       "    <tr style=\"text-align: right;\">\n",
       "      <th></th>\n",
       "      <th>Unnamed: 0</th>\n",
       "      <th>title</th>\n",
       "      <th>date</th>\n",
       "      <th>stock</th>\n",
       "      <th>is_up</th>\n",
       "    </tr>\n",
       "  </thead>\n",
       "  <tbody>\n",
       "    <tr>\n",
       "      <th>0</th>\n",
       "      <td>0</td>\n",
       "      <td>Stocks That Hit 52-Week Highs On Friday</td>\n",
       "      <td>2020-06-05</td>\n",
       "      <td>A</td>\n",
       "      <td>0</td>\n",
       "    </tr>\n",
       "    <tr>\n",
       "      <th>1</th>\n",
       "      <td>1</td>\n",
       "      <td>Stocks That Hit 52-Week Highs On Wednesday</td>\n",
       "      <td>2020-06-03</td>\n",
       "      <td>A</td>\n",
       "      <td>1</td>\n",
       "    </tr>\n",
       "    <tr>\n",
       "      <th>2</th>\n",
       "      <td>2</td>\n",
       "      <td>71 Biggest Movers From Friday</td>\n",
       "      <td>2020-05-26</td>\n",
       "      <td>A</td>\n",
       "      <td>1</td>\n",
       "    </tr>\n",
       "    <tr>\n",
       "      <th>3</th>\n",
       "      <td>3</td>\n",
       "      <td>46 Stocks Moving In Friday's Mid-Day Session</td>\n",
       "      <td>2020-05-22</td>\n",
       "      <td>A</td>\n",
       "      <td>1</td>\n",
       "    </tr>\n",
       "    <tr>\n",
       "      <th>4</th>\n",
       "      <td>4</td>\n",
       "      <td>B of A Securities Maintains Neutral on Agilent...</td>\n",
       "      <td>2020-05-22</td>\n",
       "      <td>A</td>\n",
       "      <td>1</td>\n",
       "    </tr>\n",
       "  </tbody>\n",
       "</table>\n",
       "</div>"
      ],
      "text/plain": [
       "   Unnamed: 0                                              title        date  \\\n",
       "0           0            Stocks That Hit 52-Week Highs On Friday  2020-06-05   \n",
       "1           1         Stocks That Hit 52-Week Highs On Wednesday  2020-06-03   \n",
       "2           2                      71 Biggest Movers From Friday  2020-05-26   \n",
       "3           3       46 Stocks Moving In Friday's Mid-Day Session  2020-05-22   \n",
       "4           4  B of A Securities Maintains Neutral on Agilent...  2020-05-22   \n",
       "\n",
       "  stock is_up  \n",
       "0     A     0  \n",
       "1     A     1  \n",
       "2     A     1  \n",
       "3     A     1  \n",
       "4     A     1  "
      ]
     },
     "execution_count": 3,
     "metadata": {},
     "output_type": "execute_result"
    }
   ],
   "source": [
    "df.head()"
   ]
  },
  {
   "cell_type": "code",
   "execution_count": 4,
   "id": "1c79be7e",
   "metadata": {},
   "outputs": [
    {
     "data": {
      "text/plain": [
       "(315244, 5)"
      ]
     },
     "execution_count": 4,
     "metadata": {},
     "output_type": "execute_result"
    }
   ],
   "source": [
    "df.shape"
   ]
  },
  {
   "cell_type": "code",
   "execution_count": 5,
   "id": "37fdae3d",
   "metadata": {},
   "outputs": [
    {
     "data": {
      "text/plain": [
       "8751"
      ]
     },
     "execution_count": 5,
     "metadata": {},
     "output_type": "execute_result"
    }
   ],
   "source": [
    "(df[\"is_up\"] == \"Na\").sum()"
   ]
  },
  {
   "cell_type": "code",
   "execution_count": 6,
   "id": "0dff736a",
   "metadata": {},
   "outputs": [],
   "source": [
    "df = df[df[\"is_up\"].str.contains(\"Na\")==False]"
   ]
  },
  {
   "cell_type": "code",
   "execution_count": 7,
   "id": "db5c3ba0",
   "metadata": {},
   "outputs": [
    {
     "data": {
      "text/plain": [
       "(306493, 5)"
      ]
     },
     "execution_count": 7,
     "metadata": {},
     "output_type": "execute_result"
    }
   ],
   "source": [
    "df.shape"
   ]
  },
  {
   "cell_type": "code",
   "execution_count": 8,
   "id": "8493ca08",
   "metadata": {
    "scrolled": true
   },
   "outputs": [
    {
     "data": {
      "text/plain": [
       "Unnamed: 0    0\n",
       "title         0\n",
       "date          0\n",
       "stock         0\n",
       "is_up         0\n",
       "dtype: int64"
      ]
     },
     "execution_count": 8,
     "metadata": {},
     "output_type": "execute_result"
    }
   ],
   "source": [
    "df.isnull().sum()"
   ]
  },
  {
   "cell_type": "code",
   "execution_count": 9,
   "id": "b0470aab",
   "metadata": {},
   "outputs": [
    {
     "data": {
      "text/plain": [
       "0"
      ]
     },
     "execution_count": 9,
     "metadata": {},
     "output_type": "execute_result"
    }
   ],
   "source": [
    "df.duplicated().sum()"
   ]
  },
  {
   "cell_type": "code",
   "execution_count": 10,
   "id": "6da4f366",
   "metadata": {},
   "outputs": [
    {
     "data": {
      "text/plain": [
       "(306493, 5)"
      ]
     },
     "execution_count": 10,
     "metadata": {},
     "output_type": "execute_result"
    }
   ],
   "source": [
    "df = df.drop_duplicates()\n",
    "df.shape"
   ]
  },
  {
   "cell_type": "code",
   "execution_count": 11,
   "id": "d1959de3",
   "metadata": {},
   "outputs": [
    {
     "data": {
      "text/plain": [
       "1    161781\n",
       "0    143119\n",
       "2      1593\n",
       "Name: is_up, dtype: int64"
      ]
     },
     "execution_count": 11,
     "metadata": {},
     "output_type": "execute_result"
    }
   ],
   "source": [
    "df.is_up.value_counts()"
   ]
  },
  {
   "cell_type": "code",
   "execution_count": 12,
   "id": "3a4a9e72",
   "metadata": {},
   "outputs": [],
   "source": [
    "def make_lower(a_string):\n",
    "    return a_string.lower()\n",
    "\n",
    "def remove_punctuation(a_string):    \n",
    "    a_string = re.sub(r'[^\\w\\s]','',a_string)\n",
    "    return a_string"
   ]
  },
  {
   "cell_type": "code",
   "execution_count": 13,
   "id": "d4b39eaf",
   "metadata": {},
   "outputs": [],
   "source": [
    "# Break words into their stem words\n",
    "\n",
    "def stem_words(a_string):\n",
    "    # Initalize our Stemmer\n",
    "    porter = PorterStemmer()\n",
    "    \n",
    "    # Break the sentence down into a list of words\n",
    "    words = word_tokenize(a_string)\n",
    "    \n",
    "    # Make a list to append valid words into\n",
    "    valid_words = []\n",
    "\n",
    "    # Loop through all the words\n",
    "    for word in words:\n",
    "        # Stem the word\n",
    "        stemmed_word = porter.stem(word)\n",
    "        \n",
    "        # Append stemmed word to our valid_words\n",
    "        valid_words.append(stemmed_word)\n",
    "        \n",
    "    # Join the list of words together into a string\n",
    "    a_string = ' '.join(valid_words)\n",
    "\n",
    "    return a_string \n"
   ]
  },
  {
   "cell_type": "code",
   "execution_count": 14,
   "id": "d99c0121",
   "metadata": {},
   "outputs": [],
   "source": [
    "# Remove all stopwords\n",
    "\n",
    "def remove_stopwords(a_string):\n",
    "    # Break the sentence down into a list of words\n",
    "    words = word_tokenize(a_string)\n",
    "    \n",
    "    # Make a list to append valid words into\n",
    "    valid_words = []\n",
    "    \n",
    "    # Loop through all the words\n",
    "    for word in words:\n",
    "        \n",
    "        # Check if word is not in stopwords\n",
    "        if word not in stopwords:\n",
    "            \n",
    "            # If word not in stopwords, append to our valid_words\n",
    "            valid_words.append(word)\n",
    "\n",
    "    # Join the list of words together into a string\n",
    "    a_string = ' '.join(valid_words)\n",
    "\n",
    "    return a_string"
   ]
  },
  {
   "cell_type": "code",
   "execution_count": 15,
   "id": "3d6b9f2d",
   "metadata": {},
   "outputs": [],
   "source": [
    "def text_pipeline(input_string):\n",
    "    input_string = make_lower(input_string)\n",
    "    input_string = remove_punctuation(input_string)\n",
    "    input_string = stem_words(input_string)\n",
    "    return input_string"
   ]
  },
  {
   "cell_type": "code",
   "execution_count": 16,
   "id": "2975cfcc",
   "metadata": {},
   "outputs": [],
   "source": [
    "df[\"title_clean\"] = df[\"title\"].apply(text_pipeline)"
   ]
  },
  {
   "cell_type": "code",
   "execution_count": 17,
   "id": "4f468417",
   "metadata": {},
   "outputs": [],
   "source": [
    "df.head()\n",
    "df = df.drop(columns=\"Unnamed: 0\")"
   ]
  },
  {
   "cell_type": "code",
   "execution_count": 18,
   "id": "1a52f64f",
   "metadata": {},
   "outputs": [],
   "source": [
    "#c1 = df['is_up'] == '0'\n",
    "#df['Sentiment'] = np.where( c1, \"Negative\", \"Positive\",)\n",
    "#df.head()"
   ]
  },
  {
   "cell_type": "code",
   "execution_count": 19,
   "id": "4a5aa126",
   "metadata": {},
   "outputs": [
    {
     "data": {
      "text/html": [
       "<div>\n",
       "<style scoped>\n",
       "    .dataframe tbody tr th:only-of-type {\n",
       "        vertical-align: middle;\n",
       "    }\n",
       "\n",
       "    .dataframe tbody tr th {\n",
       "        vertical-align: top;\n",
       "    }\n",
       "\n",
       "    .dataframe thead th {\n",
       "        text-align: right;\n",
       "    }\n",
       "</style>\n",
       "<table border=\"1\" class=\"dataframe\">\n",
       "  <thead>\n",
       "    <tr style=\"text-align: right;\">\n",
       "      <th></th>\n",
       "      <th>title</th>\n",
       "      <th>date</th>\n",
       "      <th>stock</th>\n",
       "      <th>is_up</th>\n",
       "      <th>title_clean</th>\n",
       "    </tr>\n",
       "  </thead>\n",
       "  <tbody>\n",
       "    <tr>\n",
       "      <th>0</th>\n",
       "      <td>Stocks That Hit 52-Week Highs On Friday</td>\n",
       "      <td>2020-06-05</td>\n",
       "      <td>A</td>\n",
       "      <td>0</td>\n",
       "      <td>stock that hit 52week high on friday</td>\n",
       "    </tr>\n",
       "    <tr>\n",
       "      <th>1</th>\n",
       "      <td>Stocks That Hit 52-Week Highs On Wednesday</td>\n",
       "      <td>2020-06-03</td>\n",
       "      <td>A</td>\n",
       "      <td>1</td>\n",
       "      <td>stock that hit 52week high on wednesday</td>\n",
       "    </tr>\n",
       "    <tr>\n",
       "      <th>2</th>\n",
       "      <td>71 Biggest Movers From Friday</td>\n",
       "      <td>2020-05-26</td>\n",
       "      <td>A</td>\n",
       "      <td>1</td>\n",
       "      <td>71 biggest mover from friday</td>\n",
       "    </tr>\n",
       "    <tr>\n",
       "      <th>3</th>\n",
       "      <td>46 Stocks Moving In Friday's Mid-Day Session</td>\n",
       "      <td>2020-05-22</td>\n",
       "      <td>A</td>\n",
       "      <td>1</td>\n",
       "      <td>46 stock move in friday midday session</td>\n",
       "    </tr>\n",
       "    <tr>\n",
       "      <th>4</th>\n",
       "      <td>B of A Securities Maintains Neutral on Agilent...</td>\n",
       "      <td>2020-05-22</td>\n",
       "      <td>A</td>\n",
       "      <td>1</td>\n",
       "      <td>b of a secur maintain neutral on agil technolo...</td>\n",
       "    </tr>\n",
       "    <tr>\n",
       "      <th>...</th>\n",
       "      <td>...</td>\n",
       "      <td>...</td>\n",
       "      <td>...</td>\n",
       "      <td>...</td>\n",
       "      <td>...</td>\n",
       "    </tr>\n",
       "    <tr>\n",
       "      <th>315228</th>\n",
       "      <td>Hilliard Lyons Initiates Coverage on Zoetis at...</td>\n",
       "      <td>2013-03-12</td>\n",
       "      <td>ZTS</td>\n",
       "      <td>0</td>\n",
       "      <td>hilliard lyon initi coverag on zoeti at neutral</td>\n",
       "    </tr>\n",
       "    <tr>\n",
       "      <th>315229</th>\n",
       "      <td>Hilliard Lyons Initiates Coverage on Zoetis at...</td>\n",
       "      <td>2013-03-12</td>\n",
       "      <td>ZTS</td>\n",
       "      <td>0</td>\n",
       "      <td>hilliard lyon initi coverag on zoeti at neutral</td>\n",
       "    </tr>\n",
       "    <tr>\n",
       "      <th>315230</th>\n",
       "      <td>UPDATE: BMO Capital Markets Initiates Zoetis a...</td>\n",
       "      <td>2013-03-08</td>\n",
       "      <td>ZTS</td>\n",
       "      <td>0</td>\n",
       "      <td>updat bmo capit market initi zoeti at underper...</td>\n",
       "    </tr>\n",
       "    <tr>\n",
       "      <th>315231</th>\n",
       "      <td>BMO Capital Initiates Coverage on Zoetis at Un...</td>\n",
       "      <td>2013-03-08</td>\n",
       "      <td>ZTS</td>\n",
       "      <td>0</td>\n",
       "      <td>bmo capit initi coverag on zoeti at underperfo...</td>\n",
       "    </tr>\n",
       "    <tr>\n",
       "      <th>315232</th>\n",
       "      <td>BMO Capital Initiates Coverage on Zoetis at Un...</td>\n",
       "      <td>2013-03-07</td>\n",
       "      <td>ZTS</td>\n",
       "      <td>1</td>\n",
       "      <td>bmo capit initi coverag on zoeti at underperfo...</td>\n",
       "    </tr>\n",
       "  </tbody>\n",
       "</table>\n",
       "<p>306493 rows × 5 columns</p>\n",
       "</div>"
      ],
      "text/plain": [
       "                                                    title        date stock  \\\n",
       "0                 Stocks That Hit 52-Week Highs On Friday  2020-06-05     A   \n",
       "1              Stocks That Hit 52-Week Highs On Wednesday  2020-06-03     A   \n",
       "2                           71 Biggest Movers From Friday  2020-05-26     A   \n",
       "3            46 Stocks Moving In Friday's Mid-Day Session  2020-05-22     A   \n",
       "4       B of A Securities Maintains Neutral on Agilent...  2020-05-22     A   \n",
       "...                                                   ...         ...   ...   \n",
       "315228  Hilliard Lyons Initiates Coverage on Zoetis at...  2013-03-12   ZTS   \n",
       "315229  Hilliard Lyons Initiates Coverage on Zoetis at...  2013-03-12   ZTS   \n",
       "315230  UPDATE: BMO Capital Markets Initiates Zoetis a...  2013-03-08   ZTS   \n",
       "315231  BMO Capital Initiates Coverage on Zoetis at Un...  2013-03-08   ZTS   \n",
       "315232  BMO Capital Initiates Coverage on Zoetis at Un...  2013-03-07   ZTS   \n",
       "\n",
       "       is_up                                        title_clean  \n",
       "0          0               stock that hit 52week high on friday  \n",
       "1          1            stock that hit 52week high on wednesday  \n",
       "2          1                       71 biggest mover from friday  \n",
       "3          1             46 stock move in friday midday session  \n",
       "4          1  b of a secur maintain neutral on agil technolo...  \n",
       "...      ...                                                ...  \n",
       "315228     0    hilliard lyon initi coverag on zoeti at neutral  \n",
       "315229     0    hilliard lyon initi coverag on zoeti at neutral  \n",
       "315230     0  updat bmo capit market initi zoeti at underper...  \n",
       "315231     0  bmo capit initi coverag on zoeti at underperfo...  \n",
       "315232     1  bmo capit initi coverag on zoeti at underperfo...  \n",
       "\n",
       "[306493 rows x 5 columns]"
      ]
     },
     "execution_count": 19,
     "metadata": {},
     "output_type": "execute_result"
    }
   ],
   "source": [
    "# delete all the rows that contain Na and 2 in is_up\n",
    "df = df [df [\"is_up\"].str.contains(\"Na\")==False] \n",
    "df"
   ]
  },
  {
   "cell_type": "code",
   "execution_count": 20,
   "id": "b8a84fd9",
   "metadata": {},
   "outputs": [
    {
     "data": {
      "text/html": [
       "<div>\n",
       "<style scoped>\n",
       "    .dataframe tbody tr th:only-of-type {\n",
       "        vertical-align: middle;\n",
       "    }\n",
       "\n",
       "    .dataframe tbody tr th {\n",
       "        vertical-align: top;\n",
       "    }\n",
       "\n",
       "    .dataframe thead th {\n",
       "        text-align: right;\n",
       "    }\n",
       "</style>\n",
       "<table border=\"1\" class=\"dataframe\">\n",
       "  <thead>\n",
       "    <tr style=\"text-align: right;\">\n",
       "      <th></th>\n",
       "      <th>title</th>\n",
       "      <th>date</th>\n",
       "      <th>stock</th>\n",
       "      <th>is_up</th>\n",
       "      <th>title_clean</th>\n",
       "      <th>Sentiment</th>\n",
       "    </tr>\n",
       "  </thead>\n",
       "  <tbody>\n",
       "    <tr>\n",
       "      <th>0</th>\n",
       "      <td>Stocks That Hit 52-Week Highs On Friday</td>\n",
       "      <td>2020-06-05</td>\n",
       "      <td>A</td>\n",
       "      <td>0</td>\n",
       "      <td>stock that hit 52week high on friday</td>\n",
       "      <td>Negative</td>\n",
       "    </tr>\n",
       "    <tr>\n",
       "      <th>1</th>\n",
       "      <td>Stocks That Hit 52-Week Highs On Wednesday</td>\n",
       "      <td>2020-06-03</td>\n",
       "      <td>A</td>\n",
       "      <td>1</td>\n",
       "      <td>stock that hit 52week high on wednesday</td>\n",
       "      <td>Positive</td>\n",
       "    </tr>\n",
       "    <tr>\n",
       "      <th>2</th>\n",
       "      <td>71 Biggest Movers From Friday</td>\n",
       "      <td>2020-05-26</td>\n",
       "      <td>A</td>\n",
       "      <td>1</td>\n",
       "      <td>71 biggest mover from friday</td>\n",
       "      <td>Positive</td>\n",
       "    </tr>\n",
       "    <tr>\n",
       "      <th>3</th>\n",
       "      <td>46 Stocks Moving In Friday's Mid-Day Session</td>\n",
       "      <td>2020-05-22</td>\n",
       "      <td>A</td>\n",
       "      <td>1</td>\n",
       "      <td>46 stock move in friday midday session</td>\n",
       "      <td>Positive</td>\n",
       "    </tr>\n",
       "    <tr>\n",
       "      <th>4</th>\n",
       "      <td>B of A Securities Maintains Neutral on Agilent...</td>\n",
       "      <td>2020-05-22</td>\n",
       "      <td>A</td>\n",
       "      <td>1</td>\n",
       "      <td>b of a secur maintain neutral on agil technolo...</td>\n",
       "      <td>Positive</td>\n",
       "    </tr>\n",
       "  </tbody>\n",
       "</table>\n",
       "</div>"
      ],
      "text/plain": [
       "                                               title        date stock is_up  \\\n",
       "0            Stocks That Hit 52-Week Highs On Friday  2020-06-05     A     0   \n",
       "1         Stocks That Hit 52-Week Highs On Wednesday  2020-06-03     A     1   \n",
       "2                      71 Biggest Movers From Friday  2020-05-26     A     1   \n",
       "3       46 Stocks Moving In Friday's Mid-Day Session  2020-05-22     A     1   \n",
       "4  B of A Securities Maintains Neutral on Agilent...  2020-05-22     A     1   \n",
       "\n",
       "                                         title_clean Sentiment  \n",
       "0               stock that hit 52week high on friday  Negative  \n",
       "1            stock that hit 52week high on wednesday  Positive  \n",
       "2                       71 biggest mover from friday  Positive  \n",
       "3             46 stock move in friday midday session  Positive  \n",
       "4  b of a secur maintain neutral on agil technolo...  Positive  "
      ]
     },
     "execution_count": 20,
     "metadata": {},
     "output_type": "execute_result"
    }
   ],
   "source": [
    "df['Sentiment'] = df['is_up']\n",
    "df['Sentiment'] = df['Sentiment'].replace(['0'], 'Negative')\n",
    "df['Sentiment'] = df['Sentiment'].replace(['1'], 'Positive')\n",
    "df['Sentiment'] = df['Sentiment'].replace(['2'], 'Bullish')\n",
    "df.head()"
   ]
  },
  {
   "cell_type": "code",
   "execution_count": 21,
   "id": "99544f92",
   "metadata": {},
   "outputs": [],
   "source": [
    "# replacing(x):\n",
    "   # if x == 2:\n",
    "        #return 'Bullish'\n",
    "    #elif x == 1:\n",
    "        #return 'Positive'\n",
    "    #elif x == 0:\n",
    "       # return 'Negative'\n",
    "    #else:\n",
    "       # return x #needed in case you have a 3\n",
    "\n",
    "#df['is_up'] = df['is_up'].apply(replacing)\n",
    "#df"
   ]
  },
  {
   "cell_type": "code",
   "execution_count": 22,
   "id": "3166e309",
   "metadata": {},
   "outputs": [
    {
     "data": {
      "text/plain": [
       "1    161781\n",
       "0    143119\n",
       "2      1593\n",
       "Name: is_up, dtype: int64"
      ]
     },
     "execution_count": 22,
     "metadata": {},
     "output_type": "execute_result"
    }
   ],
   "source": [
    "df.is_up.value_counts()"
   ]
  },
  {
   "cell_type": "code",
   "execution_count": 23,
   "id": "5e301fb7",
   "metadata": {},
   "outputs": [
    {
     "data": {
      "text/plain": [
       "<306493x50291 sparse matrix of type '<class 'numpy.int64'>'\n",
       "\twith 3446163 stored elements in Compressed Sparse Row format>"
      ]
     },
     "execution_count": 23,
     "metadata": {},
     "output_type": "execute_result"
    }
   ],
   "source": [
    "from sklearn.feature_extraction.text import CountVectorizer\n",
    "X = df['title']\n",
    "y = df['Sentiment']\n",
    "\n",
    "vect=CountVectorizer()\n",
    "vect.fit(X)\n",
    "count_vect_trans = vect.transform(X)\n",
    "count_vect_trans"
   ]
  },
  {
   "cell_type": "code",
   "execution_count": 24,
   "id": "606b3691",
   "metadata": {},
   "outputs": [],
   "source": [
    "from sklearn.feature_extraction.text import TfidfTransformer\n",
    "tfidf_vect = TfidfTransformer()\n",
    "x_train_tfidf = tfidf_vect.fit(count_vect_trans)\n",
    "x_train_tfidf_trans = x_train_tfidf.transform(count_vect_trans)"
   ]
  },
  {
   "cell_type": "code",
   "execution_count": 25,
   "id": "085928d3",
   "metadata": {},
   "outputs": [],
   "source": [
    "# Split our data into testing and training like always. \n",
    "X_train, X_test, y_train, y_test = train_test_split(\n",
    "    x_train_tfidf_trans, y, test_size=0.2, random_state=1)"
   ]
  },
  {
   "cell_type": "code",
   "execution_count": 26,
   "id": "ae898d4f",
   "metadata": {},
   "outputs": [
    {
     "name": "stdout",
     "output_type": "stream",
     "text": [
      "['Positive']\n"
     ]
    }
   ],
   "source": [
    "Model_NB = MultinomialNB().fit(x_train_tfidf_trans,y)\n",
    "\n",
    "print(Model_NB.predict(vect.transform([\"Good Good Good\"])))"
   ]
  },
  {
   "cell_type": "code",
   "execution_count": 27,
   "id": "94360d50",
   "metadata": {},
   "outputs": [
    {
     "name": "stdout",
     "output_type": "stream",
     "text": [
      "Model Accuracy: 0.650060\n"
     ]
    }
   ],
   "source": [
    "# Make new predictions of our testing data. \n",
    "y_pred = Model_NB.predict(X_test)\n",
    "\n",
    "\n",
    "# Make predicted probabilites of our testing data\n",
    "y_pred_proba = Model_NB.predict_proba(X_test)\n",
    "\n",
    "# Evaluate our model\n",
    "accuracy =  Model_NB.score(X_test, y_test)\n",
    "\n",
    "# Print our evaluation metrics\n",
    "print(\"Model Accuracy: %f\" % accuracy)"
   ]
  },
  {
   "cell_type": "code",
   "execution_count": 28,
   "id": "d4b28f47",
   "metadata": {},
   "outputs": [
    {
     "name": "stdout",
     "output_type": "stream",
     "text": [
      "              precision    recall  f1-score   support\n",
      "\n",
      "     Bullish       0.00      0.00      0.00       313\n",
      "    Negative       0.71      0.44      0.55     28672\n",
      "    Positive       0.63      0.84      0.72     32314\n",
      "\n",
      "    accuracy                           0.65     61299\n",
      "   macro avg       0.44      0.43      0.42     61299\n",
      "weighted avg       0.66      0.65      0.63     61299\n",
      "\n"
     ]
    }
   ],
   "source": [
    "from sklearn.metrics import classification_report\n",
    "\n",
    "print(classification_report(y_test, y_pred, target_names=Model_NB.classes_))"
   ]
  },
  {
   "cell_type": "code",
   "execution_count": 29,
   "id": "60b67e06",
   "metadata": {},
   "outputs": [
    {
     "name": "stderr",
     "output_type": "stream",
     "text": [
      "C:\\Users\\aksha\\anaconda3\\lib\\site-packages\\sklearn\\utils\\deprecation.py:87: FutureWarning: Function plot_confusion_matrix is deprecated; Function `plot_confusion_matrix` is deprecated in 1.0 and will be removed in 1.2. Use one of the class methods: ConfusionMatrixDisplay.from_predictions or ConfusionMatrixDisplay.from_estimator.\n",
      "  warnings.warn(msg, category=FutureWarning)\n"
     ]
    },
    {
     "data": {
      "text/plain": [
       "<sklearn.metrics._plot.confusion_matrix.ConfusionMatrixDisplay at 0x27a9fe74970>"
      ]
     },
     "execution_count": 29,
     "metadata": {},
     "output_type": "execute_result"
    },
    {
     "data": {
      "image/png": "[encoded data removed]",
      "text/plain": [
       "<Figure size 1512x1512 with 2 Axes>"
      ]
     },
     "metadata": {
      "needs_background": "light"
     },
     "output_type": "display_data"
    }
   ],
   "source": [
    "# Plot the confusion matrix of our results\n",
    "fig, ax = plt.subplots(figsize=(21, 21))\n",
    "\n",
    "disp = plot_confusion_matrix(Model_NB, X_test, y_test,\n",
    "                             display_labels=Model_NB.classes_,\n",
    "                             cmap=plt.cm.Blues, ax=ax)\n",
    "plt.xticks(rotation=90)\n",
    "disp"
   ]
  },
  {
   "cell_type": "code",
   "execution_count": 30,
   "id": "1c2dad75",
   "metadata": {},
   "outputs": [],
   "source": [
    "#We tried RandomForestClassifie, As this model needs a lot of computing ti and our local machine was not able to handle the same. Hence, we are just sharing the codes.\n",
    "\n",
    "#rf_model = RandomForestClassifier()\n",
    "\n",
    "\n",
    "# Fit our model with our training data.\n",
    "#rf_model.fit(X_train, y_train)\n",
    "\n",
    "\n",
    "# Make new predictions of our testing data. \n",
    "#y_pred = rf_model.predict(X_test)\n",
    "\n",
    "\n",
    "# Make predicted probabilites of our testing data\n",
    "#y_pred_proba = rf_model.predict_proba(X_test)\n",
    "\n",
    "# Evaluate our model\n",
    "#accuracy =  rf_model.score(X_test, y_test)\n",
    "\n",
    "# Print our evaluation metrics\n",
    "#print(\"Model Accuracy: %f\" % accuracy)\n",
    "\n",
    "#print(classification_report(y_test, y_pred, target_names=rf_model.classes_))"
   ]
  },
  {
   "cell_type": "code",
   "execution_count": 31,
   "id": "48511206",
   "metadata": {},
   "outputs": [],
   "source": [
    "pickle.dump(vect,open('Vetorizer.pkl', 'wb'))\n",
    "pickle.dump(Model_NB, open('Stock_Prediction.pkl', 'wb'))"
   ]
  },
  {
   "cell_type": "code",
   "execution_count": null,
   "id": "f338ce6a",
   "metadata": {},
   "outputs": [],
   "source": []
  }
 ],
 "metadata": {
  "kernelspec": {
   "display_name": "Python 3 (ipykernel)",
   "language": "python",
   "name": "python3"
  },
  "language_info": {
   "codemirror_mode": {
    "name": "ipython",
    "version": 3
   },
   "file_extension": ".py",
   "mimetype": "text/x-python",
   "name": "python",
   "nbconvert_exporter": "python",
   "pygments_lexer": "ipython3",
   "version": "3.9.12"
  }
 },
 "nbformat": 4,
 "nbformat_minor": 5
}
